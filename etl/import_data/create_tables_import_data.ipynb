{
 "cells": [
  {
   "cell_type": "markdown",
   "id": "e9454dac-260e-4361-8172-21fdfada8f7d",
   "metadata": {},
   "source": [
    "# Import all data from csv files"
   ]
  },
  {
   "cell_type": "code",
   "execution_count": 22,
   "id": "4aa65bbc-bc37-4ce9-a58f-9110abd8c93c",
   "metadata": {},
   "outputs": [],
   "source": [
    "import pyexasol\n",
    "C = pyexasol.connect_local_config('standard_exasol', config_path='../../.pyexasol.ini', protocol_version = 1)"
   ]
  },
  {
   "cell_type": "code",
   "execution_count": 23,
   "id": "6000d198-afed-4704-8f01-d130c65bfe80",
   "metadata": {},
   "outputs": [],
   "source": [
    "# alter and insert into timedim\n",
    "C.execute(\"\"\"update AOL_SCHEMA.TIMEDIM t\n",
    "            set t.\"month\" = TRIM(t.\"month\");\"\"\")\n",
    "\n",
    "# check timedim rows if already added delete old added and insert new\n",
    "C.execute(\"\"\"DELETE FROM AOL_SCHEMA.TIMEDIM\n",
    "            WHERE id > 6927038;\"\"\")\n",
    "C.import_from_file('../../data/query_data/timedim.csv', (\"AOL_SCHEMA\", \"TIMEDIM\"))"
   ]
  },
  {
   "cell_type": "code",
   "execution_count": 27,
   "id": "5210e068-6250-4cdc-977c-b8a5622f9f6c",
   "metadata": {},
   "outputs": [],
   "source": [
    "# create world cup search terms querydim view\n",
    "C.execute(\"\"\"CREATE OR REPLACE TABLE AOL_SCHEMA.WC_QUERYDIM (\n",
    "    ID DECIMAL(18) NOT NULL,\n",
    "    QUERY VARCHAR(5000) NOT NULL\n",
    ");\"\"\")\n",
    "C.import_from_file('../../data/query_data/wc_querydim.csv', (\"AOL_SCHEMA\", \"WC_QUERYDIM\"))"
   ]
  },
  {
   "cell_type": "code",
   "execution_count": 29,
   "id": "7bb14c08-6120-4284-b652-3cb77a205258",
   "metadata": {},
   "outputs": [],
   "source": [
    "# create player search terms querydim view\n",
    "C.execute(\"\"\"CREATE OR REPLACE TABLE AOL_SCHEMA.PLAYER_QUERYDIM (\n",
    "    QUERY VARCHAR(5000) NOT NULL,\n",
    "    ID DECIMAL(18) NOT NULL\n",
    ");\"\"\")\n",
    "C.import_from_file('../../data/query_data/player_querydim.csv', (\"AOL_SCHEMA\", \"PLAYER_QUERYDIM\"))"
   ]
  },
  {
   "cell_type": "code",
   "execution_count": 31,
   "id": "7c167912-fcf0-48d3-8f59-477e344fd012",
   "metadata": {},
   "outputs": [],
   "source": [
    "# create teamdim\n",
    "C.execute(\"\"\"CREATE OR REPLACE TABLE AOL_SCHEMA.TEAMDIM (\n",
    "    ID Decimal(18) NOT NULL Primary Key,\n",
    "    TEAM VARCHAR(256) NOT NULL,\n",
    "    Rank Decimal(18) NOT NULL\n",
    ");\"\"\")\n",
    "C.import_from_file('../../data/query_data/teamdim.csv', (\"AOL_SCHEMA\", \"TEAMDIM\"))"
   ]
  },
  {
   "cell_type": "code",
   "execution_count": 32,
   "id": "6600cc38-7ec9-4696-85fc-11e2deb252b0",
   "metadata": {},
   "outputs": [],
   "source": [
    "# create player_matchdim\n",
    "C.execute(\"\"\"CREATE OR REPLACE TABLE AOL_SCHEMA.PLAYER_MATCHDIM (\n",
    "    ID DECIMAL(18) NOT NULL Primary Key,\n",
    "    GOALS DECIMAL(18) NOT NULL,\n",
    "    RED_CARDS DECIMAL(18) NOT NULL,\n",
    "    YELLOW_CARDS DECIMAL(18) NOT NULL\n",
    ");\"\"\")\n",
    "C.import_from_file('../../data/query_data/player_matchdim.csv', (\"AOL_SCHEMA\", \"PLAYER_MATCHDIM\"))"
   ]
  },
  {
   "cell_type": "code",
   "execution_count": 34,
   "id": "cc764320-2c11-4390-97f1-5bd6c5ab3731",
   "metadata": {},
   "outputs": [],
   "source": [
    "C.execute(\"\"\"CREATE OR REPLACE TABLE AOL_SCHEMA.MATCHDIM (\n",
    "    ID DECIMAL(18) NOT NULL Primary Key,\n",
    "    HOME_TEAM_NAME VARCHAR(256) NOT NULL,\n",
    "    AWAY_TEAM_NAME VARCHAR(256) NOT NULL,\n",
    "    HOME_TEAM_GOALS DECIMAL(18) NOT NULL,\n",
    "    AWAY_TEAM_GOALS DECIMAL(18) NOT NULL,\n",
    "    ATTENDANCE DECIMAL(18) NOT NULL\n",
    ");\"\"\")\n",
    "C.import_from_file('../../data/query_data/matchdim.csv', (\"AOL_SCHEMA\", \"MATCHDIM\"))"
   ]
  },
  {
   "cell_type": "code",
   "execution_count": 35,
   "id": "816740b3-c9bb-47a6-abc2-69d87c3ef8c6",
   "metadata": {},
   "outputs": [],
   "source": [
    "# create locationdim\n",
    "C.execute(\"\"\"CREATE OR REPLACE TABLE AOL_SCHEMA.LOCATIONDIM (\n",
    "    ID DECIMAL(18) NOT NULL Primary Key,\n",
    "    CITY VARCHAR(256) NOT NULL,\n",
    "    STADIUM VARCHAR(256) NOT NULL\n",
    ");\"\"\")\n",
    "C.import_from_file('../../data/query_data/locationdim.csv', (\"AOL_SCHEMA\", \"LOCATIONDIM\"))"
   ]
  },
  {
   "cell_type": "code",
   "execution_count": 36,
   "id": "f0b95ede-96ab-4566-9bfa-94cb49d333fb",
   "metadata": {},
   "outputs": [],
   "source": [
    "# create playerdim\n",
    "C.execute(\"\"\"CREATE OR REPLACE TABLE AOL_SCHEMA.PLAYERDIM (\n",
    "    ID DECIMAL(18) NOT NULL Primary Key,\n",
    "    PLAYER_NAME VARCHAR(256) NOT NULL\n",
    ");\"\"\")\n",
    "C.import_from_file('../../data/query_data/playerdim.csv', (\"AOL_SCHEMA\", \"PLAYERDIM\"))"
   ]
  },
  {
   "cell_type": "code",
   "execution_count": 38,
   "id": "3e147a1f-47f3-4484-bfcd-6fd5ef0346bf",
   "metadata": {},
   "outputs": [],
   "source": [
    "# create teamdim\n",
    "C.execute(\"\"\"CREATE OR REPLACE TABLE AOL_SCHEMA.MATCH_FACTS (\n",
    "    MATCH_ID DECIMAL(18) NOT NULL,\n",
    "    PLAYER_MATCH_ID DECIMAL(18) NOT NULL,\n",
    "    PLAYER_ID DECIMAL(18) NOT NULL,\n",
    "    TIME_ID DECIMAL(18) NOT NULL,\n",
    "    TEAM_ID DECIMAL(18) NOT NULL,\n",
    "    LOCATION_ID DECIMAL(18) NOT NULL\n",
    ");\"\"\")\n",
    "C.import_from_file('../../data/query_data/match_facts.csv', (\"AOL_SCHEMA\", \"MATCH_FACTS\"))"
   ]
  },
  {
   "cell_type": "code",
   "execution_count": 40,
   "id": "b96a98b4-db41-482e-b848-64f1b05a4b9f",
   "metadata": {},
   "outputs": [],
   "source": [
    "C.close()"
   ]
  }
 ],
 "metadata": {
  "kernelspec": {
   "display_name": "Python 3 (ipykernel)",
   "language": "python",
   "name": "python3"
  },
  "language_info": {
   "codemirror_mode": {
    "name": "ipython",
    "version": 3
   },
   "file_extension": ".py",
   "mimetype": "text/x-python",
   "name": "python",
   "nbconvert_exporter": "python",
   "pygments_lexer": "ipython3",
   "version": "3.11.3"
  }
 },
 "nbformat": 4,
 "nbformat_minor": 5
}
